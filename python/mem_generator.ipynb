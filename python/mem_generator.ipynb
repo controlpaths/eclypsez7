{
 "cells": [
  {
   "cell_type": "code",
   "execution_count": 1,
   "metadata": {},
   "outputs": [],
   "source": [
    "import matplotlib.pyplot as plt\n",
    "import numpy as np\n",
    "from scipy import signal"
   ]
  },
  {
   "cell_type": "code",
   "execution_count": 2,
   "metadata": {
    "scrolled": true
   },
   "outputs": [],
   "source": [
    "# Signal generation\n",
    "nSamples = 128;\n",
    "\n",
    "t = np.linspace(0, 2*np.pi*2, nSamples)\n",
    "signal = 0.7*np.cos(t)+0.2*np.sin(5*t)+0.1*np.cos(10*t)\n",
    "signal = np.zeros(nSamples)"
   ]
  },
  {
   "cell_type": "code",
   "execution_count": 3,
   "metadata": {},
   "outputs": [
    {
     "name": "stdout",
     "output_type": "stream",
     "text": [
      "Signal frequency = 781.25 kHz\n"
     ]
    },
    {
     "data": {
      "image/png": "[encoded data removed]",
      "text/plain": [
       "<Figure size 432x288 with 1 Axes>"
      ]
     },
     "metadata": {},
     "output_type": "display_data"
    }
   ],
   "source": [
    "# Saturate signal \n",
    "\n",
    "if max(signal)>1:\n",
    "    signal = signal/max(signal)\n",
    "    print(\"Signal has points above 1. Signal has been scaled to max value equal to 1.\")\n",
    "\n",
    "if min(signal)<(-1):\n",
    "    signal = signal/abs(min(signal))\n",
    "    print(\"Signal has points below -1. Signal has been scaled to min value equal to -1.\")\n",
    "    \n",
    "plt.plot(t,signal)\n",
    "\n",
    "fUpdate = 100e6\n",
    "fSignal = fUpdate/nSamples/1e3\n",
    "print(\"Signal frequency = \"+ str(fSignal)+\" kHz\")"
   ]
  },
  {
   "cell_type": "code",
   "execution_count": 7,
   "metadata": {
    "scrolled": true
   },
   "outputs": [
    {
     "name": "stderr",
     "output_type": "stream",
     "text": [
      "/usr/lib/python3/dist-packages/ipykernel_launcher.py:5: UserWarning: In Matplotlib 3.3 individual lines on a stem plot will be added as a LineCollection instead of individual lines. This significantly improves the performance of a stem plot. To remove this warning and switch to the new behaviour, set the \"use_line_collection\" keyword argument to True.\n",
      "  \"\"\"\n"
     ]
    },
    {
     "data": {
      "text/plain": [
       "<StemContainer object of 3 artists>"
      ]
     },
     "execution_count": 7,
     "metadata": {},
     "output_type": "execute_result"
    },
    {
     "data": {
      "image/png": "[encoded data removed]",
      "text/plain": [
       "<Figure size 432x288 with 1 Axes>"
      ]
     },
     "metadata": {},
     "output_type": "display_data"
    }
   ],
   "source": [
    "# quantificate signal\n",
    "nBits = 32\n",
    "\n",
    "signal_quantified = np.floor(signal*2**(nBits-1))\n",
    "plt.stem(signal_quantified)"
   ]
  },
  {
   "cell_type": "code",
   "execution_count": 8,
   "metadata": {},
   "outputs": [],
   "source": [
    "#write hexadecimal values\n",
    "filename = \"../memory_content/128zeros.mem\"\n",
    "\n",
    "file = open(filename, 'w')\n",
    "\n",
    "for i in range (0,nSamples):\n",
    "    if signal_quantified[i] < 0:\n",
    "        signal_to_write = signal_quantified[i] + 2**nBits\n",
    "    else:\n",
    "        signal_to_write = signal_quantified[i] \n",
    "        \n",
    "    file.write(format(int(signal_to_write),'x') + ' ')\n",
    "\n",
    "file.close()"
   ]
  },
  {
   "cell_type": "code",
   "execution_count": null,
   "metadata": {},
   "outputs": [],
   "source": []
  }
 ],
 "metadata": {
  "kernelspec": {
   "display_name": "Python 3",
   "language": "python",
   "name": "python3"
  },
  "language_info": {
   "codemirror_mode": {
    "name": "ipython",
    "version": 3
   },
   "file_extension": ".py",
   "mimetype": "text/x-python",
   "name": "python",
   "nbconvert_exporter": "python",
   "pygments_lexer": "ipython3",
   "version": "3.6.9"
  }
 },
 "nbformat": 4,
 "nbformat_minor": 4
}
