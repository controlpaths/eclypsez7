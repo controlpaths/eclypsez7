{
 "cells": [
  {
   "cell_type": "code",
   "execution_count": 117,
   "metadata": {},
   "outputs": [],
   "source": [
    "import csv\n",
    "import scipy.signal as signal\n",
    "from scipy.fft import fft, ifft\n",
    "import numpy as np\n",
    "import matplotlib.pyplot as plt"
   ]
  },
  {
   "cell_type": "code",
   "execution_count": 126,
   "metadata": {},
   "outputs": [],
   "source": [
    "## Read csv\n",
    "\n",
    "fileName = \"data2.csv\"\n",
    "\n",
    "data = np.loadtxt(fileName,dtype=np.str,delimiter=',',skiprows=2)"
   ]
  },
  {
   "cell_type": "code",
   "execution_count": 127,
   "metadata": {
    "scrolled": true
   },
   "outputs": [
    {
     "name": "stdout",
     "output_type": "stream",
     "text": [
      "Sample Freq: 99999.99999999974\n"
     ]
    }
   ],
   "source": [
    "## Obtain f sample\n",
    "\n",
    "ts = np.abs(float(data[2][0])-float(data[3][0]))\n",
    "fs = 1/ts\n",
    "print(\"Sample Freq: \" + str(fs))"
   ]
  },
  {
   "cell_type": "code",
   "execution_count": 128,
   "metadata": {},
   "outputs": [],
   "source": [
    "time = []\n",
    "ch1 = []\n",
    "ch2 = []\n",
    "for i in range(0, len(data)):\n",
    "    row = data[i]\n",
    "    time.append(float(row[0]))\n",
    "    ch1.append(float(row[1]))\n",
    "    ch2.append(float(row[2]))\n"
   ]
  },
  {
   "cell_type": "code",
   "execution_count": 129,
   "metadata": {},
   "outputs": [],
   "source": [
    "# FFT signal\n",
    "freqVector = np.linspace(0,fs,len(data))\n",
    "fft_ch1 = np.abs(fft(ch1))\n",
    "fft_ch2 = np.abs(fft(ch2))"
   ]
  },
  {
   "cell_type": "code",
   "execution_count": 133,
   "metadata": {},
   "outputs": [
    {
     "data": {
      "text/plain": [
       "[0, 20000, 0, 1000]"
      ]
     },
     "execution_count": 133,
     "metadata": {},
     "output_type": "execute_result"
    },
    {
     "data": {
      "image/png": "[encoded data removed]",
      "text/plain": [
       "<Figure size 432x288 with 1 Axes>"
      ]
     },
     "metadata": {
      "needs_background": "light"
     },
     "output_type": "display_data"
    }
   ],
   "source": [
    "plt.plot(freqVector,fft_ch1)\n",
    "plt.axis([0, 20000, 0, 1000])"
   ]
  },
  {
   "cell_type": "code",
   "execution_count": null,
   "metadata": {},
   "outputs": [],
   "source": []
  }
 ],
 "metadata": {
  "kernelspec": {
   "display_name": "Python 3",
   "language": "python",
   "name": "python3"
  },
  "language_info": {
   "codemirror_mode": {
    "name": "ipython",
    "version": 3
   },
   "file_extension": ".py",
   "mimetype": "text/x-python",
   "name": "python",
   "nbconvert_exporter": "python",
   "pygments_lexer": "ipython3",
   "version": "3.6.10"
  }
 },
 "nbformat": 4,
 "nbformat_minor": 4
}
